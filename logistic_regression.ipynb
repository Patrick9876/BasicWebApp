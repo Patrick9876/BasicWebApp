{
  "nbformat": 4,
  "nbformat_minor": 0,
  "metadata": {
    "colab": {
      "provenance": [],
      "machine_shape": "hm",
      "include_colab_link": true
    },
    "kernelspec": {
      "name": "python3",
      "display_name": "Python 3"
    }
  },
  "cells": [
    {
      "cell_type": "markdown",
      "metadata": {
        "id": "view-in-github",
        "colab_type": "text"
      },
      "source": [
        "<a href=\"https://colab.research.google.com/github/Patrick9876/BasicWebApp/blob/main/logistic_regression.ipynb\" target=\"_parent\"><img src=\"https://colab.research.google.com/assets/colab-badge.svg\" alt=\"Open In Colab\"/></a>"
      ]
    },
    {
      "cell_type": "markdown",
      "metadata": {
        "id": "0MRC0e0KhQ0S"
      },
      "source": [
        "# Logistic Regression"
      ]
    },
    {
      "cell_type": "markdown",
      "metadata": {
        "id": "LWd1UlMnhT2s"
      },
      "source": [
        "## Importing the libraries"
      ]
    },
    {
      "cell_type": "code",
      "metadata": {
        "id": "YvGPUQaHhXfL"
      },
      "source": [
        "import numpy as np\n",
        "import pandas as pd"
      ],
      "execution_count": null,
      "outputs": []
    },
    {
      "cell_type": "markdown",
      "metadata": {
        "id": "K1VMqkGvhc3-"
      },
      "source": [
        "## Importing the dataset"
      ]
    },
    {
      "cell_type": "code",
      "metadata": {
        "id": "M52QDmyzhh9s",
        "colab": {
          "base_uri": "https://localhost:8080/",
          "height": 254
        },
        "outputId": "c1542bc5-8bad-45a1-a233-176680dc6929"
      },
      "source": [
        "dataset = pd.read_excel('jaggia_ba_1e_ch09_Data_Files.xlsx', sheet_name= 'Spam_Data')\n",
        "X = dataset.iloc[:, 1:4].values\n",
        "y = dataset.iloc[:, 0].values\n",
        "\n",
        "dataset.head()\n"
      ],
      "execution_count": 1,
      "outputs": [
        {
          "output_type": "error",
          "ename": "NameError",
          "evalue": "name 'pd' is not defined",
          "traceback": [
            "\u001b[0;31m---------------------------------------------------------------------------\u001b[0m",
            "\u001b[0;31mNameError\u001b[0m                                 Traceback (most recent call last)",
            "\u001b[0;32m<ipython-input-1-746a0dda3442>\u001b[0m in \u001b[0;36m<cell line: 1>\u001b[0;34m()\u001b[0m\n\u001b[0;32m----> 1\u001b[0;31m \u001b[0mdataset\u001b[0m \u001b[0;34m=\u001b[0m \u001b[0mpd\u001b[0m\u001b[0;34m.\u001b[0m\u001b[0mread_excel\u001b[0m\u001b[0;34m(\u001b[0m\u001b[0;34m'jaggia_ba_1e_ch09_Data_Files.xlsx'\u001b[0m\u001b[0;34m,\u001b[0m \u001b[0msheet_name\u001b[0m\u001b[0;34m=\u001b[0m \u001b[0;34m'Spam_Data'\u001b[0m\u001b[0;34m)\u001b[0m\u001b[0;34m\u001b[0m\u001b[0;34m\u001b[0m\u001b[0m\n\u001b[0m\u001b[1;32m      2\u001b[0m \u001b[0mX\u001b[0m \u001b[0;34m=\u001b[0m \u001b[0mdataset\u001b[0m\u001b[0;34m.\u001b[0m\u001b[0miloc\u001b[0m\u001b[0;34m[\u001b[0m\u001b[0;34m:\u001b[0m\u001b[0;34m,\u001b[0m \u001b[0;36m1\u001b[0m\u001b[0;34m:\u001b[0m\u001b[0;36m4\u001b[0m\u001b[0;34m]\u001b[0m\u001b[0;34m.\u001b[0m\u001b[0mvalues\u001b[0m\u001b[0;34m\u001b[0m\u001b[0;34m\u001b[0m\u001b[0m\n\u001b[1;32m      3\u001b[0m \u001b[0my\u001b[0m \u001b[0;34m=\u001b[0m \u001b[0mdataset\u001b[0m\u001b[0;34m.\u001b[0m\u001b[0miloc\u001b[0m\u001b[0;34m[\u001b[0m\u001b[0;34m:\u001b[0m\u001b[0;34m,\u001b[0m \u001b[0;36m0\u001b[0m\u001b[0;34m]\u001b[0m\u001b[0;34m.\u001b[0m\u001b[0mvalues\u001b[0m\u001b[0;34m\u001b[0m\u001b[0;34m\u001b[0m\u001b[0m\n\u001b[1;32m      4\u001b[0m \u001b[0;34m\u001b[0m\u001b[0m\n\u001b[1;32m      5\u001b[0m \u001b[0mdataset\u001b[0m\u001b[0;34m.\u001b[0m\u001b[0mhead\u001b[0m\u001b[0;34m(\u001b[0m\u001b[0;34m)\u001b[0m\u001b[0;34m\u001b[0m\u001b[0;34m\u001b[0m\u001b[0m\n",
            "\u001b[0;31mNameError\u001b[0m: name 'pd' is not defined"
          ]
        }
      ]
    },
    {
      "cell_type": "markdown",
      "metadata": {
        "id": "YvxIPVyMhmKp"
      },
      "source": [
        "Splitting the dataset into the Training set and Test set"
      ]
    },
    {
      "cell_type": "code",
      "metadata": {
        "id": "AVzJWAXIhxoC"
      },
      "source": [
        "from sklearn.model_selection import train_test_split\n",
        "X_train, X_test, y_train, y_test = train_test_split(X, y, test_size = 0.25, random_state = 0)"
      ],
      "execution_count": null,
      "outputs": []
    },
    {
      "cell_type": "code",
      "metadata": {
        "id": "P3nS3-6r1i2B",
        "outputId": "b10846c3-6a5b-4388-ab0b-d28e1cfc5408",
        "colab": {
          "base_uri": "https://localhost:8080/"
        }
      },
      "source": [
        "print(X_train)"
      ],
      "execution_count": null,
      "outputs": [
        {
          "output_type": "stream",
          "name": "stdout",
          "text": [
            "[[15  5 67]\n",
            " [14  6 98]\n",
            " [12  6 23]\n",
            " ...\n",
            " [13 11 28]\n",
            " [13 12 73]\n",
            " [12  9 90]]\n"
          ]
        }
      ]
    },
    {
      "cell_type": "code",
      "metadata": {
        "id": "8dpDLojm1mVG",
        "outputId": "e03578f7-f848-470c-d122-410bc0de9186",
        "colab": {
          "base_uri": "https://localhost:8080/"
        }
      },
      "source": [
        "print(y_train)"
      ],
      "execution_count": null,
      "outputs": [
        {
          "output_type": "stream",
          "name": "stdout",
          "text": [
            "[0 1 1 0 1 0 1 1 1 0 1 0 0 1 0 1 1 1 0 0 0 0 1 0 0 1 0 1 1 0 1 0 0 1 0 0 1\n",
            " 1 1 0 1 1 1 1 0 0 0 1 1 0 1 1 0 0 0 0 1 0 0 1 1 0 0 0 1 0 0 0 1 0 0 1 1 1\n",
            " 0 0 0 0 0 0 0 1 0 1 0 0 0 1 1 1 1 1 0 0 1 1 1 1 0 1 0 1 0 0 1 1 1 1 0 1 0\n",
            " 1 1 1 0 1 0 0 0 0 1 1 0 0 0 1 0 1 1 0 1 1 1 0 0 0 0 0 1 0 0 1 0 1 1 1 1 0\n",
            " 1 1 1 1 1 0 1 0 0 0 0 1 1 1 1 0 1 0 0 1 0 0 1 0 1 0 1 0 1 1 0 1 0 1 0 1 1\n",
            " 1 1 1 1 1 0 1 0 1 0 1 1 1 0 0 1 1 1 0 0 0 1 1 1 1 0 1 0 0 1 1 0 0 1 1 1 0\n",
            " 0 1 0 1 0 0 1 1 1 1 1 0 0 1 0 0 0 0 1 0 1 0 0 1 0 0 0 0 1 1 0 1 0 0 0 1 1\n",
            " 0 1 1 1 1 1 1 1 0 0 1 0 1 1 0 1 1 0 1 0 1 0 1 0 0 1 0 1 0 1 0 1 0 1 0 0 1\n",
            " 1 1 1 0 1 1 1 0 0 1 1 0 1 1 0 1 1 0 1 1 0 1 1 0 0 1 1 0 1 1 1 0 0 0 0 0 1\n",
            " 0 0 0 1 0 1 1 0 0 0 1 0 0 1 0 1 1 1 1 1 0 1 1 0 0 1 1 0 1 1 1 1 1 1 0 1 0\n",
            " 1 0 1 1 1]\n"
          ]
        }
      ]
    },
    {
      "cell_type": "code",
      "metadata": {
        "id": "qbb7i0DH1qui",
        "outputId": "fbd9d103-ad30-4cde-e971-610622fe1aa4",
        "colab": {
          "base_uri": "https://localhost:8080/"
        }
      },
      "source": [
        "print(X_test)"
      ],
      "execution_count": null,
      "outputs": [
        {
          "output_type": "stream",
          "name": "stdout",
          "text": [
            "[[ 13   2  20]\n",
            " [ 12   6  90]\n",
            " [ 12  10  83]\n",
            " [ 12   3 102]\n",
            " [ 12   1  63]\n",
            " [ 12  12  52]\n",
            " [ 24   9  62]\n",
            " [ 16   8  31]\n",
            " [ 13   7  62]\n",
            " [ 13   7  94]\n",
            " [ 16   9  97]\n",
            " [ 13   3  35]\n",
            " [ 17   8  34]\n",
            " [ 13   4  19]\n",
            " [ 12  11  29]\n",
            " [ 12   9  54]\n",
            " [ 14   8  47]\n",
            " [ 12   9  45]\n",
            " [ 13   0  69]\n",
            " [ 12  12  28]\n",
            " [ 13   4  78]\n",
            " [ 12   3  82]\n",
            " [ 16  12  52]\n",
            " [ 18   7  24]\n",
            " [ 15   9  63]\n",
            " [ 15   6  59]\n",
            " [ 13   2  81]\n",
            " [ 12   4  73]\n",
            " [ 17   1  87]\n",
            " [ 13   0 102]\n",
            " [ 12   8  45]\n",
            " [ 14   7  24]\n",
            " [ 12  11  57]\n",
            " [ 16  11  48]\n",
            " [ 19  11  83]\n",
            " [ 13   1  24]\n",
            " [ 13  12  26]\n",
            " [ 13   7  49]\n",
            " [ 12  11  84]\n",
            " [ 12   7  80]\n",
            " [ 12   6  70]\n",
            " [ 17   5  50]\n",
            " [ 12  11  89]\n",
            " [ 13   4  64]\n",
            " [ 12   3  24]\n",
            " [ 15   1  58]\n",
            " [ 36   5  23]\n",
            " [ 13  10  71]\n",
            " [ 13   4  44]\n",
            " [ 25   2  53]\n",
            " [ 14  10  82]\n",
            " [ 13   3  73]\n",
            " [ 15   3  78]\n",
            " [ 12   6 102]\n",
            " [ 13   2  77]\n",
            " [ 13  11  27]\n",
            " [ 12   4  58]\n",
            " [ 13   5 100]\n",
            " [ 14   6  20]\n",
            " [ 17   1  67]\n",
            " [ 12   5 102]\n",
            " [ 13   6  76]\n",
            " [ 17  10  70]\n",
            " [ 15  11  87]\n",
            " [ 18   3  70]\n",
            " [ 14   3  28]\n",
            " [ 13  10  45]\n",
            " [ 12   5  60]\n",
            " [ 12   5  40]\n",
            " [ 13   9  32]\n",
            " [ 12   0  39]\n",
            " [ 12  10  74]\n",
            " [ 12   4  48]\n",
            " [ 12   9  70]\n",
            " [ 12   2  66]\n",
            " [ 13   2  65]\n",
            " [ 13   3  21]\n",
            " [ 13  11  69]\n",
            " [ 12   7  48]\n",
            " [ 14   0 100]\n",
            " [ 12  12  48]\n",
            " [ 14   0  57]\n",
            " [ 12   1  36]\n",
            " [ 12   8  33]\n",
            " [ 15   6  68]\n",
            " [ 12   6  30]\n",
            " [ 13   1  66]\n",
            " [ 13   5  23]\n",
            " [ 16   2  76]\n",
            " [ 13   4  67]\n",
            " [ 20   3  28]\n",
            " [ 12   5  38]\n",
            " [ 12   9  74]\n",
            " [ 15   5  53]\n",
            " [ 12   6  85]\n",
            " [ 12  10  89]\n",
            " [ 12   5  84]\n",
            " [ 13   3  87]\n",
            " [ 12   4  99]\n",
            " [ 14   1  42]\n",
            " [ 12   7  88]\n",
            " [ 23   8  28]\n",
            " [ 12   2  83]\n",
            " [ 16  11  51]\n",
            " [ 12  10  41]\n",
            " [ 12  10  67]\n",
            " [ 13   3  46]\n",
            " [ 13  11  81]\n",
            " [ 13  11  94]\n",
            " [ 12  10  87]\n",
            " [ 13  11  22]\n",
            " [ 13   3  66]\n",
            " [ 14   9  50]\n",
            " [ 12   5  66]\n",
            " [ 14   6  37]\n",
            " [ 16  12  37]\n",
            " [ 18   5  81]\n",
            " [ 13   5  92]\n",
            " [ 12   1  96]\n",
            " [ 12   9  25]\n",
            " [ 12   6  21]\n",
            " [ 12   1  80]\n",
            " [ 13   7  48]\n",
            " [ 13   9  81]\n",
            " [ 12   5  43]]\n"
          ]
        }
      ]
    },
    {
      "cell_type": "code",
      "metadata": {
        "id": "kj1hnFAR1s5w",
        "outputId": "3f109179-5214-4505-ac42-19c496dc19e5",
        "colab": {
          "base_uri": "https://localhost:8080/"
        }
      },
      "source": [
        "print(y_test)"
      ],
      "execution_count": null,
      "outputs": [
        {
          "output_type": "stream",
          "name": "stdout",
          "text": [
            "[0 0 1 1 0 1 1 1 0 1 1 0 1 1 1 0 0 0 0 1 0 0 1 1 1 0 0 0 0 0 0 1 1 1 1 0 1\n",
            " 1 1 0 0 0 1 0 0 0 1 0 0 0 1 0 0 1 0 1 0 1 1 0 1 0 0 1 1 1 1 0 0 1 0 0 0 1\n",
            " 0 0 1 0 0 0 1 0 0 1 0 1 1 1 0 0 0 1 0 0 0 1 0 0 0 0 0 1 1 1 1 1 0 1 1 1 1\n",
            " 0 1 0 0 1 0 0 0 1 1 0 0 1 1]\n"
          ]
        }
      ]
    },
    {
      "cell_type": "markdown",
      "metadata": {
        "id": "bb6jCOCQiAmP"
      },
      "source": [
        "## Training the Logistic Regression model on the Training set"
      ]
    },
    {
      "cell_type": "code",
      "metadata": {
        "id": "e0pFVAmciHQs",
        "outputId": "a5067682-f9ed-45ff-e78c-1af0cc159edb",
        "colab": {
          "base_uri": "https://localhost:8080/"
        }
      },
      "source": [
        "from sklearn.linear_model import LogisticRegression\n",
        "classifier = LogisticRegression(random_state = 0)\n",
        "classifier.fit(X_train, y_train)"
      ],
      "execution_count": null,
      "outputs": [
        {
          "output_type": "execute_result",
          "data": {
            "text/plain": [
              "LogisticRegression(random_state=0)"
            ]
          },
          "metadata": {},
          "execution_count": 15
        }
      ]
    },
    {
      "cell_type": "markdown",
      "metadata": {
        "id": "vKYVQH-l5NpE"
      },
      "source": [
        "## Predicting the Test set results"
      ]
    },
    {
      "cell_type": "code",
      "metadata": {
        "id": "p6VMTb2O4hwM",
        "outputId": "914322ae-9dd9-4801-9327-94b81d2e2361",
        "colab": {
          "base_uri": "https://localhost:8080/"
        }
      },
      "source": [
        "y_pred = classifier.predict(X_test)\n",
        "print(np.concatenate((y_pred.reshape(len(y_pred),1), y_test.reshape(len(y_test),1)),1))"
      ],
      "execution_count": null,
      "outputs": [
        {
          "output_type": "stream",
          "name": "stdout",
          "text": [
            "[[0 0]\n",
            " [0 0]\n",
            " [1 1]\n",
            " [0 1]\n",
            " [0 0]\n",
            " [1 1]\n",
            " [1 1]\n",
            " [1 1]\n",
            " [1 0]\n",
            " [0 1]\n",
            " [1 1]\n",
            " [0 0]\n",
            " [1 1]\n",
            " [0 1]\n",
            " [1 1]\n",
            " [1 0]\n",
            " [1 0]\n",
            " [1 0]\n",
            " [0 0]\n",
            " [1 1]\n",
            " [0 0]\n",
            " [0 0]\n",
            " [1 1]\n",
            " [1 1]\n",
            " [1 1]\n",
            " [1 0]\n",
            " [0 0]\n",
            " [0 0]\n",
            " [0 0]\n",
            " [0 0]\n",
            " [1 0]\n",
            " [1 1]\n",
            " [1 1]\n",
            " [1 1]\n",
            " [1 1]\n",
            " [0 0]\n",
            " [1 1]\n",
            " [1 1]\n",
            " [1 1]\n",
            " [1 0]\n",
            " [0 0]\n",
            " [0 0]\n",
            " [1 1]\n",
            " [0 0]\n",
            " [0 0]\n",
            " [0 0]\n",
            " [1 1]\n",
            " [1 0]\n",
            " [0 0]\n",
            " [0 0]\n",
            " [1 1]\n",
            " [0 0]\n",
            " [0 0]\n",
            " [0 1]\n",
            " [0 0]\n",
            " [1 1]\n",
            " [0 0]\n",
            " [0 1]\n",
            " [1 1]\n",
            " [0 0]\n",
            " [0 1]\n",
            " [0 0]\n",
            " [1 0]\n",
            " [1 1]\n",
            " [0 1]\n",
            " [0 1]\n",
            " [1 1]\n",
            " [0 0]\n",
            " [0 0]\n",
            " [1 1]\n",
            " [0 0]\n",
            " [1 0]\n",
            " [0 0]\n",
            " [1 1]\n",
            " [0 0]\n",
            " [0 0]\n",
            " [0 1]\n",
            " [1 0]\n",
            " [1 0]\n",
            " [0 0]\n",
            " [1 1]\n",
            " [0 0]\n",
            " [0 0]\n",
            " [1 1]\n",
            " [0 0]\n",
            " [1 1]\n",
            " [0 1]\n",
            " [0 1]\n",
            " [0 0]\n",
            " [0 0]\n",
            " [0 0]\n",
            " [0 1]\n",
            " [1 0]\n",
            " [0 0]\n",
            " [0 0]\n",
            " [1 1]\n",
            " [0 0]\n",
            " [0 0]\n",
            " [0 0]\n",
            " [0 0]\n",
            " [0 0]\n",
            " [1 1]\n",
            " [0 1]\n",
            " [1 1]\n",
            " [1 1]\n",
            " [1 1]\n",
            " [0 0]\n",
            " [1 1]\n",
            " [1 1]\n",
            " [1 1]\n",
            " [1 1]\n",
            " [0 0]\n",
            " [1 1]\n",
            " [0 0]\n",
            " [1 0]\n",
            " [1 1]\n",
            " [0 0]\n",
            " [0 0]\n",
            " [0 0]\n",
            " [1 1]\n",
            " [1 1]\n",
            " [0 0]\n",
            " [1 0]\n",
            " [1 1]\n",
            " [0 1]]\n"
          ]
        }
      ]
    },
    {
      "cell_type": "markdown",
      "metadata": {
        "id": "h4Hwj34ziWQW"
      },
      "source": [
        "## Making the Confusion Matrix"
      ]
    },
    {
      "cell_type": "code",
      "metadata": {
        "id": "D6bpZwUiiXic",
        "outputId": "b2b8aaa9-938f-4079-baf7-370553f38eda",
        "colab": {
          "base_uri": "https://localhost:8080/"
        }
      },
      "source": [
        "from sklearn.metrics import confusion_matrix, accuracy_score\n",
        "cm = confusion_matrix(y_test, y_pred)\n",
        "print(cm)\n",
        "accuracy_score(y_test, y_pred)"
      ],
      "execution_count": null,
      "outputs": [
        {
          "output_type": "stream",
          "name": "stdout",
          "text": [
            "[[52 15]\n",
            " [14 44]]\n"
          ]
        },
        {
          "output_type": "execute_result",
          "data": {
            "text/plain": [
              "0.768"
            ]
          },
          "metadata": {},
          "execution_count": 17
        }
      ]
    }
  ]
}